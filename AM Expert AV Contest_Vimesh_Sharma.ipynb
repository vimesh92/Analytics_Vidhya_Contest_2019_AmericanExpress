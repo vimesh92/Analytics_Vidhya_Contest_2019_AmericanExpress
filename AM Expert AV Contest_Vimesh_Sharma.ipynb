{
 "cells": [
  {
   "cell_type": "code",
   "execution_count": 1,
   "metadata": {},
   "outputs": [],
   "source": [
    "import pandas as pd\n",
    "import numpy as np\n",
    "import matplotlib.pyplot as plt\n",
    "import seaborn as sns"
   ]
  },
  {
   "cell_type": "code",
   "execution_count": 2,
   "metadata": {},
   "outputs": [],
   "source": [
    "train1=pd.read_csv('train.csv')"
   ]
  },
  {
   "cell_type": "code",
   "execution_count": 3,
   "metadata": {},
   "outputs": [
    {
     "data": {
      "text/html": [
       "<div>\n",
       "<style scoped>\n",
       "    .dataframe tbody tr th:only-of-type {\n",
       "        vertical-align: middle;\n",
       "    }\n",
       "\n",
       "    .dataframe tbody tr th {\n",
       "        vertical-align: top;\n",
       "    }\n",
       "\n",
       "    .dataframe thead th {\n",
       "        text-align: right;\n",
       "    }\n",
       "</style>\n",
       "<table border=\"1\" class=\"dataframe\">\n",
       "  <thead>\n",
       "    <tr style=\"text-align: right;\">\n",
       "      <th></th>\n",
       "      <th>id</th>\n",
       "      <th>campaign_id</th>\n",
       "      <th>coupon_id</th>\n",
       "      <th>customer_id</th>\n",
       "      <th>redemption_status</th>\n",
       "    </tr>\n",
       "  </thead>\n",
       "  <tbody>\n",
       "    <tr>\n",
       "      <th>0</th>\n",
       "      <td>1</td>\n",
       "      <td>13</td>\n",
       "      <td>27</td>\n",
       "      <td>1053</td>\n",
       "      <td>0</td>\n",
       "    </tr>\n",
       "    <tr>\n",
       "      <th>1</th>\n",
       "      <td>2</td>\n",
       "      <td>13</td>\n",
       "      <td>116</td>\n",
       "      <td>48</td>\n",
       "      <td>0</td>\n",
       "    </tr>\n",
       "    <tr>\n",
       "      <th>2</th>\n",
       "      <td>6</td>\n",
       "      <td>9</td>\n",
       "      <td>635</td>\n",
       "      <td>205</td>\n",
       "      <td>0</td>\n",
       "    </tr>\n",
       "    <tr>\n",
       "      <th>3</th>\n",
       "      <td>7</td>\n",
       "      <td>13</td>\n",
       "      <td>644</td>\n",
       "      <td>1050</td>\n",
       "      <td>0</td>\n",
       "    </tr>\n",
       "    <tr>\n",
       "      <th>4</th>\n",
       "      <td>9</td>\n",
       "      <td>8</td>\n",
       "      <td>1017</td>\n",
       "      <td>1489</td>\n",
       "      <td>0</td>\n",
       "    </tr>\n",
       "  </tbody>\n",
       "</table>\n",
       "</div>"
      ],
      "text/plain": [
       "   id  campaign_id  coupon_id  customer_id  redemption_status\n",
       "0   1           13         27         1053                  0\n",
       "1   2           13        116           48                  0\n",
       "2   6            9        635          205                  0\n",
       "3   7           13        644         1050                  0\n",
       "4   9            8       1017         1489                  0"
      ]
     },
     "execution_count": 3,
     "metadata": {},
     "output_type": "execute_result"
    }
   ],
   "source": [
    "train1.head()"
   ]
  },
  {
   "cell_type": "code",
   "execution_count": 4,
   "metadata": {},
   "outputs": [],
   "source": [
    "campaign=pd.read_csv('campaign_data.csv')"
   ]
  },
  {
   "cell_type": "code",
   "execution_count": 5,
   "metadata": {},
   "outputs": [],
   "source": [
    "test_1=pd.read_csv('test_QyjYwdj.csv')"
   ]
  },
  {
   "cell_type": "code",
   "execution_count": 6,
   "metadata": {},
   "outputs": [],
   "source": [
    "coupon=pd.read_csv('coupon_item_mapping.csv')"
   ]
  },
  {
   "cell_type": "code",
   "execution_count": 7,
   "metadata": {},
   "outputs": [],
   "source": [
    "customer=pd.read_csv('customer_demographics.csv')"
   ]
  },
  {
   "cell_type": "code",
   "execution_count": 8,
   "metadata": {},
   "outputs": [],
   "source": [
    "transaction=pd.read_csv('customer_transaction_data.csv')"
   ]
  },
  {
   "cell_type": "code",
   "execution_count": 9,
   "metadata": {},
   "outputs": [],
   "source": [
    "items=pd.read_csv('item_data.csv')"
   ]
  },
  {
   "cell_type": "code",
   "execution_count": 146,
   "metadata": {},
   "outputs": [
    {
     "data": {
      "text/html": [
       "<div>\n",
       "<style scoped>\n",
       "    .dataframe tbody tr th:only-of-type {\n",
       "        vertical-align: middle;\n",
       "    }\n",
       "\n",
       "    .dataframe tbody tr th {\n",
       "        vertical-align: top;\n",
       "    }\n",
       "\n",
       "    .dataframe thead th {\n",
       "        text-align: right;\n",
       "    }\n",
       "</style>\n",
       "<table border=\"1\" class=\"dataframe\">\n",
       "  <thead>\n",
       "    <tr style=\"text-align: right;\">\n",
       "      <th></th>\n",
       "      <th>customer_id</th>\n",
       "      <th>age_range</th>\n",
       "      <th>marital_status</th>\n",
       "      <th>rented</th>\n",
       "      <th>family_size</th>\n",
       "      <th>no_of_children</th>\n",
       "      <th>income_bracket</th>\n",
       "    </tr>\n",
       "  </thead>\n",
       "  <tbody>\n",
       "    <tr>\n",
       "      <th>0</th>\n",
       "      <td>1</td>\n",
       "      <td>70+</td>\n",
       "      <td>Married</td>\n",
       "      <td>0</td>\n",
       "      <td>2</td>\n",
       "      <td>NaN</td>\n",
       "      <td>4</td>\n",
       "    </tr>\n",
       "    <tr>\n",
       "      <th>1</th>\n",
       "      <td>6</td>\n",
       "      <td>46-55</td>\n",
       "      <td>Married</td>\n",
       "      <td>0</td>\n",
       "      <td>2</td>\n",
       "      <td>NaN</td>\n",
       "      <td>5</td>\n",
       "    </tr>\n",
       "    <tr>\n",
       "      <th>2</th>\n",
       "      <td>7</td>\n",
       "      <td>26-35</td>\n",
       "      <td>NaN</td>\n",
       "      <td>0</td>\n",
       "      <td>3</td>\n",
       "      <td>1</td>\n",
       "      <td>3</td>\n",
       "    </tr>\n",
       "    <tr>\n",
       "      <th>3</th>\n",
       "      <td>8</td>\n",
       "      <td>26-35</td>\n",
       "      <td>NaN</td>\n",
       "      <td>0</td>\n",
       "      <td>4</td>\n",
       "      <td>2</td>\n",
       "      <td>6</td>\n",
       "    </tr>\n",
       "    <tr>\n",
       "      <th>4</th>\n",
       "      <td>10</td>\n",
       "      <td>46-55</td>\n",
       "      <td>Single</td>\n",
       "      <td>0</td>\n",
       "      <td>1</td>\n",
       "      <td>NaN</td>\n",
       "      <td>5</td>\n",
       "    </tr>\n",
       "  </tbody>\n",
       "</table>\n",
       "</div>"
      ],
      "text/plain": [
       "   customer_id age_range marital_status  rented family_size no_of_children  \\\n",
       "0            1       70+        Married       0           2            NaN   \n",
       "1            6     46-55        Married       0           2            NaN   \n",
       "2            7     26-35            NaN       0           3              1   \n",
       "3            8     26-35            NaN       0           4              2   \n",
       "4           10     46-55         Single       0           1            NaN   \n",
       "\n",
       "   income_bracket  \n",
       "0               4  \n",
       "1               5  \n",
       "2               3  \n",
       "3               6  \n",
       "4               5  "
      ]
     },
     "execution_count": 146,
     "metadata": {},
     "output_type": "execute_result"
    }
   ],
   "source": [
    "customer.head()"
   ]
  },
  {
   "cell_type": "code",
   "execution_count": 21,
   "metadata": {},
   "outputs": [
    {
     "data": {
      "text/plain": [
       "<matplotlib.axes._subplots.AxesSubplot at 0x2300f9f5208>"
      ]
     },
     "execution_count": 21,
     "metadata": {},
     "output_type": "execute_result"
    },
    {
     "data": {
      "image/png": "[encoded data removed]",
      "text/plain": [
       "<Figure size 432x288 with 1 Axes>"
      ]
     },
     "metadata": {
      "needs_background": "light"
     },
     "output_type": "display_data"
    }
   ],
   "source": [
    "sns.countplot(train1.redemption_status)"
   ]
  },
  {
   "cell_type": "code",
   "execution_count": 22,
   "metadata": {},
   "outputs": [
    {
     "data": {
      "text/plain": [
       "(78369, 5)"
      ]
     },
     "execution_count": 22,
     "metadata": {},
     "output_type": "execute_result"
    }
   ],
   "source": [
    "train1.shape\n"
   ]
  },
  {
   "cell_type": "code",
   "execution_count": 561,
   "metadata": {},
   "outputs": [],
   "source": [
    "# merging train and campaign\n",
    "merged_train=pd.merge(train1,campaign,on='campaign_id',how='left')"
   ]
  },
  {
   "cell_type": "code",
   "execution_count": 562,
   "metadata": {},
   "outputs": [
    {
     "data": {
      "text/html": [
       "<div>\n",
       "<style scoped>\n",
       "    .dataframe tbody tr th:only-of-type {\n",
       "        vertical-align: middle;\n",
       "    }\n",
       "\n",
       "    .dataframe tbody tr th {\n",
       "        vertical-align: top;\n",
       "    }\n",
       "\n",
       "    .dataframe thead th {\n",
       "        text-align: right;\n",
       "    }\n",
       "</style>\n",
       "<table border=\"1\" class=\"dataframe\">\n",
       "  <thead>\n",
       "    <tr style=\"text-align: right;\">\n",
       "      <th></th>\n",
       "      <th>id</th>\n",
       "      <th>campaign_id</th>\n",
       "      <th>coupon_id</th>\n",
       "      <th>customer_id</th>\n",
       "      <th>redemption_status</th>\n",
       "      <th>campaign_type</th>\n",
       "      <th>start_date</th>\n",
       "      <th>end_date</th>\n",
       "    </tr>\n",
       "  </thead>\n",
       "  <tbody>\n",
       "    <tr>\n",
       "      <th>0</th>\n",
       "      <td>1</td>\n",
       "      <td>13</td>\n",
       "      <td>27</td>\n",
       "      <td>1053</td>\n",
       "      <td>0</td>\n",
       "      <td>X</td>\n",
       "      <td>19/05/13</td>\n",
       "      <td>05/07/13</td>\n",
       "    </tr>\n",
       "    <tr>\n",
       "      <th>1</th>\n",
       "      <td>2</td>\n",
       "      <td>13</td>\n",
       "      <td>116</td>\n",
       "      <td>48</td>\n",
       "      <td>0</td>\n",
       "      <td>X</td>\n",
       "      <td>19/05/13</td>\n",
       "      <td>05/07/13</td>\n",
       "    </tr>\n",
       "    <tr>\n",
       "      <th>2</th>\n",
       "      <td>6</td>\n",
       "      <td>9</td>\n",
       "      <td>635</td>\n",
       "      <td>205</td>\n",
       "      <td>0</td>\n",
       "      <td>Y</td>\n",
       "      <td>11/03/13</td>\n",
       "      <td>12/04/13</td>\n",
       "    </tr>\n",
       "    <tr>\n",
       "      <th>3</th>\n",
       "      <td>7</td>\n",
       "      <td>13</td>\n",
       "      <td>644</td>\n",
       "      <td>1050</td>\n",
       "      <td>0</td>\n",
       "      <td>X</td>\n",
       "      <td>19/05/13</td>\n",
       "      <td>05/07/13</td>\n",
       "    </tr>\n",
       "    <tr>\n",
       "      <th>4</th>\n",
       "      <td>9</td>\n",
       "      <td>8</td>\n",
       "      <td>1017</td>\n",
       "      <td>1489</td>\n",
       "      <td>0</td>\n",
       "      <td>X</td>\n",
       "      <td>16/02/13</td>\n",
       "      <td>05/04/13</td>\n",
       "    </tr>\n",
       "  </tbody>\n",
       "</table>\n",
       "</div>"
      ],
      "text/plain": [
       "   id  campaign_id  coupon_id  customer_id  redemption_status campaign_type  \\\n",
       "0   1           13         27         1053                  0             X   \n",
       "1   2           13        116           48                  0             X   \n",
       "2   6            9        635          205                  0             Y   \n",
       "3   7           13        644         1050                  0             X   \n",
       "4   9            8       1017         1489                  0             X   \n",
       "\n",
       "  start_date  end_date  \n",
       "0   19/05/13  05/07/13  \n",
       "1   19/05/13  05/07/13  \n",
       "2   11/03/13  12/04/13  \n",
       "3   19/05/13  05/07/13  \n",
       "4   16/02/13  05/04/13  "
      ]
     },
     "execution_count": 562,
     "metadata": {},
     "output_type": "execute_result"
    }
   ],
   "source": [
    "merged_train.head()"
   ]
  },
  {
   "cell_type": "code",
   "execution_count": 563,
   "metadata": {},
   "outputs": [
    {
     "data": {
      "text/plain": [
       "((78369, 8), (78369, 5))"
      ]
     },
     "execution_count": 563,
     "metadata": {},
     "output_type": "execute_result"
    }
   ],
   "source": [
    "merged_train.shape, train1.shape"
   ]
  },
  {
   "cell_type": "code",
   "execution_count": 564,
   "metadata": {},
   "outputs": [],
   "source": [
    "#merging merged and coupon\n",
    "merged_train=pd.merge(merged_train,coupon,on='coupon_id',how='left')"
   ]
  },
  {
   "cell_type": "code",
   "execution_count": 565,
   "metadata": {},
   "outputs": [],
   "source": [
    "#merging merged with customer, transaction, items\n",
    "merged_train=pd.merge(merged_train,customer,on='customer_id',how='left')\n"
   ]
  },
  {
   "cell_type": "code",
   "execution_count": 566,
   "metadata": {},
   "outputs": [],
   "source": [
    "merged_train=pd.merge(merged_train,items,on='item_id',how='left')"
   ]
  },
  {
   "cell_type": "code",
   "execution_count": 567,
   "metadata": {},
   "outputs": [
    {
     "data": {
      "text/plain": [
       "id                         0\n",
       "campaign_id                0\n",
       "coupon_id                  0\n",
       "customer_id                0\n",
       "redemption_status          0\n",
       "campaign_type              0\n",
       "start_date                 0\n",
       "end_date                   0\n",
       "item_id                    0\n",
       "age_range            2612838\n",
       "marital_status       2612838\n",
       "rented               2612838\n",
       "family_size          2612838\n",
       "no_of_children       2612838\n",
       "income_bracket       2612838\n",
       "brand                      0\n",
       "brand_type                 0\n",
       "category                   0\n",
       "dtype: int64"
      ]
     },
     "execution_count": 567,
     "metadata": {},
     "output_type": "execute_result"
    }
   ],
   "source": [
    "merged_train.isnull().sum()"
   ]
  },
  {
   "cell_type": "code",
   "execution_count": null,
   "metadata": {},
   "outputs": [],
   "source": []
  },
  {
   "cell_type": "code",
   "execution_count": 579,
   "metadata": {},
   "outputs": [],
   "source": [
    "merged_train=merged_train.drop(['age_range','marital_status','rented','family_size','no_of_children','income_bracket'],axis=1)  "
   ]
  },
  {
   "cell_type": "code",
   "execution_count": 580,
   "metadata": {},
   "outputs": [],
   "source": [
    "merged_train=merged_train.drop(['start_date','end_date'],axis=1)  "
   ]
  },
  {
   "cell_type": "code",
   "execution_count": 581,
   "metadata": {},
   "outputs": [
    {
     "data": {
      "text/html": [
       "<div>\n",
       "<style scoped>\n",
       "    .dataframe tbody tr th:only-of-type {\n",
       "        vertical-align: middle;\n",
       "    }\n",
       "\n",
       "    .dataframe tbody tr th {\n",
       "        vertical-align: top;\n",
       "    }\n",
       "\n",
       "    .dataframe thead th {\n",
       "        text-align: right;\n",
       "    }\n",
       "</style>\n",
       "<table border=\"1\" class=\"dataframe\">\n",
       "  <thead>\n",
       "    <tr style=\"text-align: right;\">\n",
       "      <th></th>\n",
       "      <th>id</th>\n",
       "      <th>campaign_id</th>\n",
       "      <th>coupon_id</th>\n",
       "      <th>customer_id</th>\n",
       "      <th>redemption_status</th>\n",
       "      <th>campaign_type</th>\n",
       "      <th>item_id</th>\n",
       "      <th>brand</th>\n",
       "      <th>brand_type</th>\n",
       "      <th>category</th>\n",
       "    </tr>\n",
       "  </thead>\n",
       "  <tbody>\n",
       "    <tr>\n",
       "      <th>0</th>\n",
       "      <td>1</td>\n",
       "      <td>13</td>\n",
       "      <td>27</td>\n",
       "      <td>1053</td>\n",
       "      <td>0</td>\n",
       "      <td>X</td>\n",
       "      <td>24775</td>\n",
       "      <td>1636</td>\n",
       "      <td>Established</td>\n",
       "      <td>Grocery</td>\n",
       "    </tr>\n",
       "    <tr>\n",
       "      <th>1</th>\n",
       "      <td>1</td>\n",
       "      <td>13</td>\n",
       "      <td>27</td>\n",
       "      <td>1053</td>\n",
       "      <td>0</td>\n",
       "      <td>X</td>\n",
       "      <td>14958</td>\n",
       "      <td>1636</td>\n",
       "      <td>Established</td>\n",
       "      <td>Grocery</td>\n",
       "    </tr>\n",
       "    <tr>\n",
       "      <th>2</th>\n",
       "      <td>1</td>\n",
       "      <td>13</td>\n",
       "      <td>27</td>\n",
       "      <td>1053</td>\n",
       "      <td>0</td>\n",
       "      <td>X</td>\n",
       "      <td>40431</td>\n",
       "      <td>1636</td>\n",
       "      <td>Established</td>\n",
       "      <td>Grocery</td>\n",
       "    </tr>\n",
       "    <tr>\n",
       "      <th>3</th>\n",
       "      <td>1</td>\n",
       "      <td>13</td>\n",
       "      <td>27</td>\n",
       "      <td>1053</td>\n",
       "      <td>0</td>\n",
       "      <td>X</td>\n",
       "      <td>20749</td>\n",
       "      <td>1636</td>\n",
       "      <td>Established</td>\n",
       "      <td>Grocery</td>\n",
       "    </tr>\n",
       "    <tr>\n",
       "      <th>4</th>\n",
       "      <td>1</td>\n",
       "      <td>13</td>\n",
       "      <td>27</td>\n",
       "      <td>1053</td>\n",
       "      <td>0</td>\n",
       "      <td>X</td>\n",
       "      <td>56860</td>\n",
       "      <td>1636</td>\n",
       "      <td>Established</td>\n",
       "      <td>Grocery</td>\n",
       "    </tr>\n",
       "  </tbody>\n",
       "</table>\n",
       "</div>"
      ],
      "text/plain": [
       "   id  campaign_id  coupon_id  customer_id  redemption_status campaign_type  \\\n",
       "0   1           13         27         1053                  0             X   \n",
       "1   1           13         27         1053                  0             X   \n",
       "2   1           13         27         1053                  0             X   \n",
       "3   1           13         27         1053                  0             X   \n",
       "4   1           13         27         1053                  0             X   \n",
       "\n",
       "   item_id  brand   brand_type category  \n",
       "0    24775   1636  Established  Grocery  \n",
       "1    14958   1636  Established  Grocery  \n",
       "2    40431   1636  Established  Grocery  \n",
       "3    20749   1636  Established  Grocery  \n",
       "4    56860   1636  Established  Grocery  "
      ]
     },
     "execution_count": 581,
     "metadata": {},
     "output_type": "execute_result"
    }
   ],
   "source": [
    "merged_train.head()"
   ]
  },
  {
   "cell_type": "code",
   "execution_count": 582,
   "metadata": {},
   "outputs": [
    {
     "data": {
      "text/plain": [
       "id                   78369\n",
       "campaign_id             18\n",
       "coupon_id              866\n",
       "customer_id           1428\n",
       "redemption_status        2\n",
       "campaign_type            2\n",
       "item_id              32800\n",
       "brand                 2461\n",
       "brand_type               2\n",
       "category                17\n",
       "dtype: int64"
      ]
     },
     "execution_count": 582,
     "metadata": {},
     "output_type": "execute_result"
    }
   ],
   "source": [
    "merged_train.nunique()"
   ]
  },
  {
   "cell_type": "code",
   "execution_count": 583,
   "metadata": {},
   "outputs": [],
   "source": [
    "transaction_grouped=transaction.groupby('customer_id').sum()[['quantity','selling_price','other_discount','coupon_discount']].reset_index()"
   ]
  },
  {
   "cell_type": "code",
   "execution_count": 584,
   "metadata": {},
   "outputs": [],
   "source": [
    "merged_train=merged_train.merge(transaction_grouped,on='customer_id',how='left')"
   ]
  },
  {
   "cell_type": "code",
   "execution_count": 585,
   "metadata": {},
   "outputs": [],
   "source": [
    "df1=merged_train.groupby(['customer_id']).mean()[['quantity','selling_price','other_discount','coupon_discount']].reset_index()"
   ]
  },
  {
   "cell_type": "code",
   "execution_count": 587,
   "metadata": {},
   "outputs": [
    {
     "data": {
      "text/html": [
       "<div>\n",
       "<style scoped>\n",
       "    .dataframe tbody tr th:only-of-type {\n",
       "        vertical-align: middle;\n",
       "    }\n",
       "\n",
       "    .dataframe tbody tr th {\n",
       "        vertical-align: top;\n",
       "    }\n",
       "\n",
       "    .dataframe thead th {\n",
       "        text-align: right;\n",
       "    }\n",
       "</style>\n",
       "<table border=\"1\" class=\"dataframe\">\n",
       "  <thead>\n",
       "    <tr style=\"text-align: right;\">\n",
       "      <th></th>\n",
       "      <th>id</th>\n",
       "      <th>campaign_id</th>\n",
       "      <th>coupon_id</th>\n",
       "      <th>customer_id</th>\n",
       "      <th>redemption_status</th>\n",
       "      <th>campaign_type</th>\n",
       "      <th>item_id</th>\n",
       "      <th>brand</th>\n",
       "      <th>brand_type</th>\n",
       "      <th>category</th>\n",
       "      <th>quantity</th>\n",
       "      <th>selling_price</th>\n",
       "      <th>other_discount</th>\n",
       "      <th>coupon_discount</th>\n",
       "    </tr>\n",
       "  </thead>\n",
       "  <tbody>\n",
       "    <tr>\n",
       "      <th>0</th>\n",
       "      <td>1</td>\n",
       "      <td>13</td>\n",
       "      <td>27</td>\n",
       "      <td>1053</td>\n",
       "      <td>0</td>\n",
       "      <td>X</td>\n",
       "      <td>24775</td>\n",
       "      <td>1636</td>\n",
       "      <td>Established</td>\n",
       "      <td>Grocery</td>\n",
       "      <td>105551</td>\n",
       "      <td>57120.75</td>\n",
       "      <td>-10282.37</td>\n",
       "      <td>-89.05</td>\n",
       "    </tr>\n",
       "    <tr>\n",
       "      <th>1</th>\n",
       "      <td>1</td>\n",
       "      <td>13</td>\n",
       "      <td>27</td>\n",
       "      <td>1053</td>\n",
       "      <td>0</td>\n",
       "      <td>X</td>\n",
       "      <td>14958</td>\n",
       "      <td>1636</td>\n",
       "      <td>Established</td>\n",
       "      <td>Grocery</td>\n",
       "      <td>105551</td>\n",
       "      <td>57120.75</td>\n",
       "      <td>-10282.37</td>\n",
       "      <td>-89.05</td>\n",
       "    </tr>\n",
       "    <tr>\n",
       "      <th>2</th>\n",
       "      <td>1</td>\n",
       "      <td>13</td>\n",
       "      <td>27</td>\n",
       "      <td>1053</td>\n",
       "      <td>0</td>\n",
       "      <td>X</td>\n",
       "      <td>40431</td>\n",
       "      <td>1636</td>\n",
       "      <td>Established</td>\n",
       "      <td>Grocery</td>\n",
       "      <td>105551</td>\n",
       "      <td>57120.75</td>\n",
       "      <td>-10282.37</td>\n",
       "      <td>-89.05</td>\n",
       "    </tr>\n",
       "    <tr>\n",
       "      <th>3</th>\n",
       "      <td>1</td>\n",
       "      <td>13</td>\n",
       "      <td>27</td>\n",
       "      <td>1053</td>\n",
       "      <td>0</td>\n",
       "      <td>X</td>\n",
       "      <td>20749</td>\n",
       "      <td>1636</td>\n",
       "      <td>Established</td>\n",
       "      <td>Grocery</td>\n",
       "      <td>105551</td>\n",
       "      <td>57120.75</td>\n",
       "      <td>-10282.37</td>\n",
       "      <td>-89.05</td>\n",
       "    </tr>\n",
       "    <tr>\n",
       "      <th>4</th>\n",
       "      <td>1</td>\n",
       "      <td>13</td>\n",
       "      <td>27</td>\n",
       "      <td>1053</td>\n",
       "      <td>0</td>\n",
       "      <td>X</td>\n",
       "      <td>56860</td>\n",
       "      <td>1636</td>\n",
       "      <td>Established</td>\n",
       "      <td>Grocery</td>\n",
       "      <td>105551</td>\n",
       "      <td>57120.75</td>\n",
       "      <td>-10282.37</td>\n",
       "      <td>-89.05</td>\n",
       "    </tr>\n",
       "  </tbody>\n",
       "</table>\n",
       "</div>"
      ],
      "text/plain": [
       "   id  campaign_id  coupon_id  customer_id  redemption_status campaign_type  \\\n",
       "0   1           13         27         1053                  0             X   \n",
       "1   1           13         27         1053                  0             X   \n",
       "2   1           13         27         1053                  0             X   \n",
       "3   1           13         27         1053                  0             X   \n",
       "4   1           13         27         1053                  0             X   \n",
       "\n",
       "   item_id  brand   brand_type category  quantity  selling_price  \\\n",
       "0    24775   1636  Established  Grocery    105551       57120.75   \n",
       "1    14958   1636  Established  Grocery    105551       57120.75   \n",
       "2    40431   1636  Established  Grocery    105551       57120.75   \n",
       "3    20749   1636  Established  Grocery    105551       57120.75   \n",
       "4    56860   1636  Established  Grocery    105551       57120.75   \n",
       "\n",
       "   other_discount  coupon_discount  \n",
       "0       -10282.37           -89.05  \n",
       "1       -10282.37           -89.05  \n",
       "2       -10282.37           -89.05  \n",
       "3       -10282.37           -89.05  \n",
       "4       -10282.37           -89.05  "
      ]
     },
     "execution_count": 587,
     "metadata": {},
     "output_type": "execute_result"
    }
   ],
   "source": [
    "merged_train.head()"
   ]
  },
  {
   "cell_type": "code",
   "execution_count": 588,
   "metadata": {},
   "outputs": [],
   "source": [
    "df2=merged_train.groupby(['id','campaign_id','coupon_id','customer_id']).mean().reset_index()[['customer_id','campaign_id','coupon_id','quantity','selling_price','other_discount','coupon_discount','redemption_status']]"
   ]
  },
  {
   "cell_type": "code",
   "execution_count": 589,
   "metadata": {},
   "outputs": [
    {
     "data": {
      "text/html": [
       "<div>\n",
       "<style scoped>\n",
       "    .dataframe tbody tr th:only-of-type {\n",
       "        vertical-align: middle;\n",
       "    }\n",
       "\n",
       "    .dataframe tbody tr th {\n",
       "        vertical-align: top;\n",
       "    }\n",
       "\n",
       "    .dataframe thead th {\n",
       "        text-align: right;\n",
       "    }\n",
       "</style>\n",
       "<table border=\"1\" class=\"dataframe\">\n",
       "  <thead>\n",
       "    <tr style=\"text-align: right;\">\n",
       "      <th></th>\n",
       "      <th>customer_id</th>\n",
       "      <th>campaign_id</th>\n",
       "      <th>coupon_id</th>\n",
       "      <th>quantity</th>\n",
       "      <th>selling_price</th>\n",
       "      <th>other_discount</th>\n",
       "      <th>coupon_discount</th>\n",
       "      <th>redemption_status</th>\n",
       "    </tr>\n",
       "  </thead>\n",
       "  <tbody>\n",
       "    <tr>\n",
       "      <th>0</th>\n",
       "      <td>1053</td>\n",
       "      <td>13</td>\n",
       "      <td>27</td>\n",
       "      <td>105551.0</td>\n",
       "      <td>57120.75</td>\n",
       "      <td>-10282.37</td>\n",
       "      <td>-89.05</td>\n",
       "      <td>0.0</td>\n",
       "    </tr>\n",
       "    <tr>\n",
       "      <th>1</th>\n",
       "      <td>48</td>\n",
       "      <td>13</td>\n",
       "      <td>116</td>\n",
       "      <td>12143.0</td>\n",
       "      <td>90185.10</td>\n",
       "      <td>-10664.18</td>\n",
       "      <td>-1237.79</td>\n",
       "      <td>0.0</td>\n",
       "    </tr>\n",
       "    <tr>\n",
       "      <th>2</th>\n",
       "      <td>205</td>\n",
       "      <td>9</td>\n",
       "      <td>635</td>\n",
       "      <td>1351.0</td>\n",
       "      <td>117461.66</td>\n",
       "      <td>-17261.79</td>\n",
       "      <td>-2145.72</td>\n",
       "      <td>0.0</td>\n",
       "    </tr>\n",
       "    <tr>\n",
       "      <th>3</th>\n",
       "      <td>1050</td>\n",
       "      <td>13</td>\n",
       "      <td>644</td>\n",
       "      <td>306.0</td>\n",
       "      <td>23291.42</td>\n",
       "      <td>-3947.37</td>\n",
       "      <td>-178.10</td>\n",
       "      <td>0.0</td>\n",
       "    </tr>\n",
       "    <tr>\n",
       "      <th>4</th>\n",
       "      <td>1489</td>\n",
       "      <td>8</td>\n",
       "      <td>1017</td>\n",
       "      <td>139063.0</td>\n",
       "      <td>67797.49</td>\n",
       "      <td>-11534.90</td>\n",
       "      <td>-265.01</td>\n",
       "      <td>0.0</td>\n",
       "    </tr>\n",
       "  </tbody>\n",
       "</table>\n",
       "</div>"
      ],
      "text/plain": [
       "   customer_id  campaign_id  coupon_id  quantity  selling_price  \\\n",
       "0         1053           13         27  105551.0       57120.75   \n",
       "1           48           13        116   12143.0       90185.10   \n",
       "2          205            9        635    1351.0      117461.66   \n",
       "3         1050           13        644     306.0       23291.42   \n",
       "4         1489            8       1017  139063.0       67797.49   \n",
       "\n",
       "   other_discount  coupon_discount  redemption_status  \n",
       "0       -10282.37           -89.05                0.0  \n",
       "1       -10664.18         -1237.79                0.0  \n",
       "2       -17261.79         -2145.72                0.0  \n",
       "3        -3947.37          -178.10                0.0  \n",
       "4       -11534.90          -265.01                0.0  "
      ]
     },
     "execution_count": 589,
     "metadata": {},
     "output_type": "execute_result"
    }
   ],
   "source": [
    "df2.head()"
   ]
  },
  {
   "cell_type": "code",
   "execution_count": 590,
   "metadata": {},
   "outputs": [
    {
     "data": {
      "text/plain": [
       "(78369, 8)"
      ]
     },
     "execution_count": 590,
     "metadata": {},
     "output_type": "execute_result"
    }
   ],
   "source": [
    "df2.shape"
   ]
  },
  {
   "cell_type": "code",
   "execution_count": 591,
   "metadata": {},
   "outputs": [
    {
     "data": {
      "text/html": [
       "<div>\n",
       "<style scoped>\n",
       "    .dataframe tbody tr th:only-of-type {\n",
       "        vertical-align: middle;\n",
       "    }\n",
       "\n",
       "    .dataframe tbody tr th {\n",
       "        vertical-align: top;\n",
       "    }\n",
       "\n",
       "    .dataframe thead th {\n",
       "        text-align: right;\n",
       "    }\n",
       "</style>\n",
       "<table border=\"1\" class=\"dataframe\">\n",
       "  <thead>\n",
       "    <tr style=\"text-align: right;\">\n",
       "      <th></th>\n",
       "      <th>id</th>\n",
       "      <th>campaign_id</th>\n",
       "      <th>coupon_id</th>\n",
       "      <th>customer_id</th>\n",
       "      <th>redemption_status</th>\n",
       "      <th>campaign_type</th>\n",
       "      <th>item_id</th>\n",
       "      <th>brand</th>\n",
       "      <th>brand_type</th>\n",
       "      <th>category</th>\n",
       "      <th>quantity</th>\n",
       "      <th>selling_price</th>\n",
       "      <th>other_discount</th>\n",
       "      <th>coupon_discount</th>\n",
       "    </tr>\n",
       "  </thead>\n",
       "  <tbody>\n",
       "    <tr>\n",
       "      <th>0</th>\n",
       "      <td>1</td>\n",
       "      <td>13</td>\n",
       "      <td>27</td>\n",
       "      <td>1053</td>\n",
       "      <td>0</td>\n",
       "      <td>X</td>\n",
       "      <td>24775</td>\n",
       "      <td>1636</td>\n",
       "      <td>Established</td>\n",
       "      <td>Grocery</td>\n",
       "      <td>105551</td>\n",
       "      <td>57120.75</td>\n",
       "      <td>-10282.37</td>\n",
       "      <td>-89.05</td>\n",
       "    </tr>\n",
       "  </tbody>\n",
       "</table>\n",
       "</div>"
      ],
      "text/plain": [
       "   id  campaign_id  coupon_id  customer_id  redemption_status campaign_type  \\\n",
       "0   1           13         27         1053                  0             X   \n",
       "\n",
       "   item_id  brand   brand_type category  quantity  selling_price  \\\n",
       "0    24775   1636  Established  Grocery    105551       57120.75   \n",
       "\n",
       "   other_discount  coupon_discount  \n",
       "0       -10282.37           -89.05  "
      ]
     },
     "execution_count": 591,
     "metadata": {},
     "output_type": "execute_result"
    }
   ],
   "source": [
    "merged_train.head(1)"
   ]
  },
  {
   "cell_type": "code",
   "execution_count": 592,
   "metadata": {},
   "outputs": [],
   "source": [
    "finaltrain=merged_train.groupby(['id','campaign_id','coupon_id','customer_id']).agg({'quantity':'mean','selling_price':'mean','other_discount':'mean','coupon_discount':'mean','brand_type':'first','brand':'first','category':'first','campaign_type':'first','redemption_status':'first'}).reset_index()"
   ]
  },
  {
   "cell_type": "code",
   "execution_count": 210,
   "metadata": {},
   "outputs": [],
   "source": [
    "coupons=items.merge(coupon,on='item_id',how='inner')"
   ]
  },
  {
   "cell_type": "code",
   "execution_count": 593,
   "metadata": {},
   "outputs": [
    {
     "data": {
      "text/html": [
       "<div>\n",
       "<style scoped>\n",
       "    .dataframe tbody tr th:only-of-type {\n",
       "        vertical-align: middle;\n",
       "    }\n",
       "\n",
       "    .dataframe tbody tr th {\n",
       "        vertical-align: top;\n",
       "    }\n",
       "\n",
       "    .dataframe thead th {\n",
       "        text-align: right;\n",
       "    }\n",
       "</style>\n",
       "<table border=\"1\" class=\"dataframe\">\n",
       "  <thead>\n",
       "    <tr style=\"text-align: right;\">\n",
       "      <th></th>\n",
       "      <th>id</th>\n",
       "      <th>campaign_id</th>\n",
       "      <th>coupon_id</th>\n",
       "      <th>customer_id</th>\n",
       "      <th>quantity</th>\n",
       "      <th>selling_price</th>\n",
       "      <th>other_discount</th>\n",
       "      <th>coupon_discount</th>\n",
       "      <th>brand_type</th>\n",
       "      <th>brand</th>\n",
       "      <th>category</th>\n",
       "      <th>campaign_type</th>\n",
       "      <th>redemption_status</th>\n",
       "    </tr>\n",
       "  </thead>\n",
       "  <tbody>\n",
       "    <tr>\n",
       "      <th>0</th>\n",
       "      <td>1</td>\n",
       "      <td>13</td>\n",
       "      <td>27</td>\n",
       "      <td>1053</td>\n",
       "      <td>105551</td>\n",
       "      <td>57120.75</td>\n",
       "      <td>-10282.37</td>\n",
       "      <td>-89.05</td>\n",
       "      <td>Established</td>\n",
       "      <td>1636</td>\n",
       "      <td>Grocery</td>\n",
       "      <td>X</td>\n",
       "      <td>0</td>\n",
       "    </tr>\n",
       "    <tr>\n",
       "      <th>1</th>\n",
       "      <td>2</td>\n",
       "      <td>13</td>\n",
       "      <td>116</td>\n",
       "      <td>48</td>\n",
       "      <td>12143</td>\n",
       "      <td>90185.10</td>\n",
       "      <td>-10664.18</td>\n",
       "      <td>-1237.79</td>\n",
       "      <td>Local</td>\n",
       "      <td>56</td>\n",
       "      <td>Grocery</td>\n",
       "      <td>X</td>\n",
       "      <td>0</td>\n",
       "    </tr>\n",
       "    <tr>\n",
       "      <th>2</th>\n",
       "      <td>6</td>\n",
       "      <td>9</td>\n",
       "      <td>635</td>\n",
       "      <td>205</td>\n",
       "      <td>1351</td>\n",
       "      <td>117461.66</td>\n",
       "      <td>-17261.79</td>\n",
       "      <td>-2145.72</td>\n",
       "      <td>Established</td>\n",
       "      <td>560</td>\n",
       "      <td>Pharmaceutical</td>\n",
       "      <td>Y</td>\n",
       "      <td>0</td>\n",
       "    </tr>\n",
       "    <tr>\n",
       "      <th>3</th>\n",
       "      <td>7</td>\n",
       "      <td>13</td>\n",
       "      <td>644</td>\n",
       "      <td>1050</td>\n",
       "      <td>306</td>\n",
       "      <td>23291.42</td>\n",
       "      <td>-3947.37</td>\n",
       "      <td>-178.10</td>\n",
       "      <td>Established</td>\n",
       "      <td>611</td>\n",
       "      <td>Grocery</td>\n",
       "      <td>X</td>\n",
       "      <td>0</td>\n",
       "    </tr>\n",
       "    <tr>\n",
       "      <th>4</th>\n",
       "      <td>9</td>\n",
       "      <td>8</td>\n",
       "      <td>1017</td>\n",
       "      <td>1489</td>\n",
       "      <td>139063</td>\n",
       "      <td>67797.49</td>\n",
       "      <td>-11534.90</td>\n",
       "      <td>-265.01</td>\n",
       "      <td>Established</td>\n",
       "      <td>1558</td>\n",
       "      <td>Grocery</td>\n",
       "      <td>X</td>\n",
       "      <td>0</td>\n",
       "    </tr>\n",
       "  </tbody>\n",
       "</table>\n",
       "</div>"
      ],
      "text/plain": [
       "   id  campaign_id  coupon_id  customer_id  quantity  selling_price  \\\n",
       "0   1           13         27         1053    105551       57120.75   \n",
       "1   2           13        116           48     12143       90185.10   \n",
       "2   6            9        635          205      1351      117461.66   \n",
       "3   7           13        644         1050       306       23291.42   \n",
       "4   9            8       1017         1489    139063       67797.49   \n",
       "\n",
       "   other_discount  coupon_discount   brand_type  brand        category  \\\n",
       "0       -10282.37           -89.05  Established   1636         Grocery   \n",
       "1       -10664.18         -1237.79        Local     56         Grocery   \n",
       "2       -17261.79         -2145.72  Established    560  Pharmaceutical   \n",
       "3        -3947.37          -178.10  Established    611         Grocery   \n",
       "4       -11534.90          -265.01  Established   1558         Grocery   \n",
       "\n",
       "  campaign_type  redemption_status  \n",
       "0             X                  0  \n",
       "1             X                  0  \n",
       "2             Y                  0  \n",
       "3             X                  0  \n",
       "4             X                  0  "
      ]
     },
     "execution_count": 593,
     "metadata": {},
     "output_type": "execute_result"
    }
   ],
   "source": [
    "finaltrain.head()"
   ]
  },
  {
   "cell_type": "code",
   "execution_count": 485,
   "metadata": {},
   "outputs": [],
   "source": [
    "customer.no_of_children.fillna(0,inplace=True)"
   ]
  },
  {
   "cell_type": "code",
   "execution_count": 540,
   "metadata": {},
   "outputs": [],
   "source": [
    "Single=customer.marital_status[customer.family_size=='1'].replace(np.NaN,'Single')"
   ]
  },
  {
   "cell_type": "code",
   "execution_count": 546,
   "metadata": {},
   "outputs": [],
   "source": [
    "Married=customer.marital_status[(customer.family_size=='2') |(customer.family_size=='3')|(customer.family_size=='4')|(customer.family_size=='5+')].fillna('Married')"
   ]
  },
  {
   "cell_type": "code",
   "execution_count": 552,
   "metadata": {},
   "outputs": [],
   "source": [
    "marital_status=pd.concat((Single,Married),axis=0)"
   ]
  },
  {
   "cell_type": "code",
   "execution_count": 557,
   "metadata": {},
   "outputs": [],
   "source": [
    "M=marital_status.sort_index()"
   ]
  },
  {
   "cell_type": "code",
   "execution_count": 560,
   "metadata": {},
   "outputs": [
    {
     "data": {
      "text/plain": [
       "customer_id       0\n",
       "age_range         0\n",
       "marital_status    0\n",
       "rented            0\n",
       "family_size       0\n",
       "no_of_children    0\n",
       "income_bracket    0\n",
       "dtype: int64"
      ]
     },
     "execution_count": 560,
     "metadata": {},
     "output_type": "execute_result"
    }
   ],
   "source": [
    "customer.isnull().sum()"
   ]
  },
  {
   "cell_type": "code",
   "execution_count": 677,
   "metadata": {},
   "outputs": [],
   "source": [
    "finaltrain_1=finaltrain"
   ]
  },
  {
   "cell_type": "code",
   "execution_count": 679,
   "metadata": {},
   "outputs": [],
   "source": [
    "mergedd=finaltrain_1.merge(customer,on='customer_id',how='left')"
   ]
  },
  {
   "cell_type": "code",
   "execution_count": null,
   "metadata": {},
   "outputs": [],
   "source": []
  },
  {
   "cell_type": "code",
   "execution_count": 708,
   "metadata": {},
   "outputs": [],
   "source": [
    "mergedd.income_bracket.fillna(5.0,inplace=True)"
   ]
  },
  {
   "cell_type": "markdown",
   "metadata": {},
   "source": [
    "TEST SET"
   ]
  },
  {
   "cell_type": "code",
   "execution_count": 249,
   "metadata": {},
   "outputs": [],
   "source": [
    "merged_test=pd.merge(merged_test,coupon,on='coupon_id',how='left')"
   ]
  },
  {
   "cell_type": "code",
   "execution_count": 244,
   "metadata": {},
   "outputs": [],
   "source": [
    "merged_test=pd.merge(test_1,campaign,on='campaign_id',how='left')"
   ]
  },
  {
   "cell_type": "code",
   "execution_count": 245,
   "metadata": {},
   "outputs": [],
   "source": [
    "merged_test=pd.merge(merged_test,customer,on='customer_id',how='left')\n"
   ]
  },
  {
   "cell_type": "code",
   "execution_count": 250,
   "metadata": {},
   "outputs": [],
   "source": [
    "merged_test=pd.merge(merged_test,items,on='item_id',how='left')"
   ]
  },
  {
   "cell_type": "code",
   "execution_count": 253,
   "metadata": {},
   "outputs": [],
   "source": [
    "merged_test=merged_test.drop(['age_range','marital_status','rented','family_size','no_of_children','income_bracket'],axis=1)  "
   ]
  },
  {
   "cell_type": "code",
   "execution_count": 255,
   "metadata": {},
   "outputs": [],
   "source": [
    "merged_test=merged_test.drop(['start_date','end_date'],axis=1)  "
   ]
  },
  {
   "cell_type": "code",
   "execution_count": 258,
   "metadata": {},
   "outputs": [],
   "source": [
    "merged_test=merged_test.merge(transaction_grouped,on='customer_id',how='left')"
   ]
  },
  {
   "cell_type": "code",
   "execution_count": 315,
   "metadata": {},
   "outputs": [],
   "source": [
    "test_prepared=merged_test.groupby(['id','campaign_id','coupon_id','customer_id']).mean().reset_index()[['customer_id','campaign_id','coupon_id','quantity','selling_price','other_discount','coupon_discount']]"
   ]
  },
  {
   "cell_type": "code",
   "execution_count": 376,
   "metadata": {},
   "outputs": [],
   "source": [
    "finaltest=merged_test.groupby(['id','campaign_id','coupon_id','customer_id']).agg(\n",
    "    {'quantity':'mean','selling_price':'mean','other_discount':'mean','coupon_discount':'mean',\n",
    "     'brand_type':'first','brand':'first','category':'first','campaign_type':'first'}\n",
    "\n",
    ").reset_index()"
   ]
  },
  {
   "cell_type": "code",
   "execution_count": 377,
   "metadata": {},
   "outputs": [
    {
     "data": {
      "text/plain": [
       "(50226, 12)"
      ]
     },
     "execution_count": 377,
     "metadata": {},
     "output_type": "execute_result"
    }
   ],
   "source": [
    "finaltest.shape"
   ]
  },
  {
   "cell_type": "code",
   "execution_count": 316,
   "metadata": {},
   "outputs": [
    {
     "data": {
      "text/plain": [
       "(50226, 7)"
      ]
     },
     "execution_count": 316,
     "metadata": {},
     "output_type": "execute_result"
    }
   ],
   "source": [
    "test_prepared.shape"
   ]
  },
  {
   "cell_type": "code",
   "execution_count": 317,
   "metadata": {},
   "outputs": [
    {
     "data": {
      "text/plain": [
       "(78369, 8)"
      ]
     },
     "execution_count": 317,
     "metadata": {},
     "output_type": "execute_result"
    }
   ],
   "source": [
    "df2.shape"
   ]
  },
  {
   "cell_type": "code",
   "execution_count": 711,
   "metadata": {},
   "outputs": [],
   "source": [
    "finaltest_1=finaltest"
   ]
  },
  {
   "cell_type": "code",
   "execution_count": 712,
   "metadata": {},
   "outputs": [],
   "source": [
    "mergedd_test=finaltest_1.merge(customer,on='customer_id',how='left')"
   ]
  },
  {
   "cell_type": "code",
   "execution_count": 734,
   "metadata": {},
   "outputs": [
    {
     "data": {
      "text/html": [
       "<div>\n",
       "<style scoped>\n",
       "    .dataframe tbody tr th:only-of-type {\n",
       "        vertical-align: middle;\n",
       "    }\n",
       "\n",
       "    .dataframe tbody tr th {\n",
       "        vertical-align: top;\n",
       "    }\n",
       "\n",
       "    .dataframe thead th {\n",
       "        text-align: right;\n",
       "    }\n",
       "</style>\n",
       "<table border=\"1\" class=\"dataframe\">\n",
       "  <thead>\n",
       "    <tr style=\"text-align: right;\">\n",
       "      <th></th>\n",
       "      <th>id</th>\n",
       "      <th>campaign_id</th>\n",
       "      <th>coupon_id</th>\n",
       "      <th>customer_id</th>\n",
       "      <th>quantity</th>\n",
       "      <th>selling_price</th>\n",
       "      <th>other_discount</th>\n",
       "      <th>coupon_discount</th>\n",
       "      <th>brand_type</th>\n",
       "      <th>brand</th>\n",
       "      <th>category</th>\n",
       "      <th>campaign_type</th>\n",
       "      <th>age_range</th>\n",
       "      <th>marital_status</th>\n",
       "      <th>rented</th>\n",
       "      <th>family_size</th>\n",
       "      <th>no_of_children</th>\n",
       "      <th>income_bracket</th>\n",
       "    </tr>\n",
       "  </thead>\n",
       "  <tbody>\n",
       "    <tr>\n",
       "      <th>0</th>\n",
       "      <td>3</td>\n",
       "      <td>22</td>\n",
       "      <td>869</td>\n",
       "      <td>967</td>\n",
       "      <td>16644</td>\n",
       "      <td>156733.77</td>\n",
       "      <td>-16292.99</td>\n",
       "      <td>-2111.86</td>\n",
       "      <td>Established</td>\n",
       "      <td>1075</td>\n",
       "      <td>Grocery</td>\n",
       "      <td>X</td>\n",
       "      <td>36-45</td>\n",
       "      <td>Single</td>\n",
       "      <td>0.0</td>\n",
       "      <td>1</td>\n",
       "      <td>0</td>\n",
       "      <td>5.0</td>\n",
       "    </tr>\n",
       "    <tr>\n",
       "      <th>1</th>\n",
       "      <td>4</td>\n",
       "      <td>20</td>\n",
       "      <td>389</td>\n",
       "      <td>1566</td>\n",
       "      <td>282396</td>\n",
       "      <td>297070.87</td>\n",
       "      <td>-32760.94</td>\n",
       "      <td>-1489.97</td>\n",
       "      <td>Established</td>\n",
       "      <td>57</td>\n",
       "      <td>Pharmaceutical</td>\n",
       "      <td>Y</td>\n",
       "      <td>26-35</td>\n",
       "      <td>Married</td>\n",
       "      <td>0.0</td>\n",
       "      <td>2</td>\n",
       "      <td>0</td>\n",
       "      <td>9.0</td>\n",
       "    </tr>\n",
       "    <tr>\n",
       "      <th>2</th>\n",
       "      <td>5</td>\n",
       "      <td>22</td>\n",
       "      <td>981</td>\n",
       "      <td>510</td>\n",
       "      <td>181500</td>\n",
       "      <td>161811.27</td>\n",
       "      <td>-39450.39</td>\n",
       "      <td>-2384.75</td>\n",
       "      <td>Established</td>\n",
       "      <td>1335</td>\n",
       "      <td>Grocery</td>\n",
       "      <td>X</td>\n",
       "      <td>26-35</td>\n",
       "      <td>Married</td>\n",
       "      <td>0.0</td>\n",
       "      <td>2</td>\n",
       "      <td>1</td>\n",
       "      <td>1.0</td>\n",
       "    </tr>\n",
       "    <tr>\n",
       "      <th>3</th>\n",
       "      <td>8</td>\n",
       "      <td>25</td>\n",
       "      <td>1069</td>\n",
       "      <td>361</td>\n",
       "      <td>22196</td>\n",
       "      <td>49149.16</td>\n",
       "      <td>-7705.95</td>\n",
       "      <td>0.00</td>\n",
       "      <td>Established</td>\n",
       "      <td>1996</td>\n",
       "      <td>Grocery</td>\n",
       "      <td>Y</td>\n",
       "      <td>18-25</td>\n",
       "      <td>Single</td>\n",
       "      <td>0.0</td>\n",
       "      <td>1</td>\n",
       "      <td>0</td>\n",
       "      <td>3.0</td>\n",
       "    </tr>\n",
       "    <tr>\n",
       "      <th>4</th>\n",
       "      <td>10</td>\n",
       "      <td>17</td>\n",
       "      <td>498</td>\n",
       "      <td>811</td>\n",
       "      <td>1729</td>\n",
       "      <td>117044.09</td>\n",
       "      <td>-19214.01</td>\n",
       "      <td>-89.04</td>\n",
       "      <td>Established</td>\n",
       "      <td>209</td>\n",
       "      <td>Grocery</td>\n",
       "      <td>Y</td>\n",
       "      <td>46-55</td>\n",
       "      <td>Married</td>\n",
       "      <td>0.0</td>\n",
       "      <td>2</td>\n",
       "      <td>0</td>\n",
       "      <td>5.0</td>\n",
       "    </tr>\n",
       "  </tbody>\n",
       "</table>\n",
       "</div>"
      ],
      "text/plain": [
       "   id  campaign_id  coupon_id  customer_id  quantity  selling_price  \\\n",
       "0   3           22        869          967     16644      156733.77   \n",
       "1   4           20        389         1566    282396      297070.87   \n",
       "2   5           22        981          510    181500      161811.27   \n",
       "3   8           25       1069          361     22196       49149.16   \n",
       "4  10           17        498          811      1729      117044.09   \n",
       "\n",
       "   other_discount  coupon_discount   brand_type  brand        category  \\\n",
       "0       -16292.99         -2111.86  Established   1075         Grocery   \n",
       "1       -32760.94         -1489.97  Established     57  Pharmaceutical   \n",
       "2       -39450.39         -2384.75  Established   1335         Grocery   \n",
       "3        -7705.95             0.00  Established   1996         Grocery   \n",
       "4       -19214.01           -89.04  Established    209         Grocery   \n",
       "\n",
       "  campaign_type age_range marital_status  rented family_size no_of_children  \\\n",
       "0             X     36-45         Single     0.0           1              0   \n",
       "1             Y     26-35        Married     0.0           2              0   \n",
       "2             X     26-35        Married     0.0           2              1   \n",
       "3             Y     18-25         Single     0.0           1              0   \n",
       "4             Y     46-55        Married     0.0           2              0   \n",
       "\n",
       "   income_bracket  \n",
       "0             5.0  \n",
       "1             9.0  \n",
       "2             1.0  \n",
       "3             3.0  \n",
       "4             5.0  "
      ]
     },
     "execution_count": 734,
     "metadata": {},
     "output_type": "execute_result"
    }
   ],
   "source": [
    "mergedd_test.head()"
   ]
  },
  {
   "cell_type": "code",
   "execution_count": 735,
   "metadata": {},
   "outputs": [
    {
     "data": {
      "text/html": [
       "<div>\n",
       "<style scoped>\n",
       "    .dataframe tbody tr th:only-of-type {\n",
       "        vertical-align: middle;\n",
       "    }\n",
       "\n",
       "    .dataframe tbody tr th {\n",
       "        vertical-align: top;\n",
       "    }\n",
       "\n",
       "    .dataframe thead th {\n",
       "        text-align: right;\n",
       "    }\n",
       "</style>\n",
       "<table border=\"1\" class=\"dataframe\">\n",
       "  <thead>\n",
       "    <tr style=\"text-align: right;\">\n",
       "      <th></th>\n",
       "      <th>id</th>\n",
       "      <th>campaign_id</th>\n",
       "      <th>coupon_id</th>\n",
       "      <th>customer_id</th>\n",
       "      <th>quantity</th>\n",
       "      <th>selling_price</th>\n",
       "      <th>other_discount</th>\n",
       "      <th>coupon_discount</th>\n",
       "      <th>brand_type</th>\n",
       "      <th>brand</th>\n",
       "      <th>category</th>\n",
       "      <th>campaign_type</th>\n",
       "      <th>redemption_status</th>\n",
       "      <th>age_range</th>\n",
       "      <th>marital_status</th>\n",
       "      <th>rented</th>\n",
       "      <th>family_size</th>\n",
       "      <th>no_of_children</th>\n",
       "      <th>income_bracket</th>\n",
       "    </tr>\n",
       "  </thead>\n",
       "  <tbody>\n",
       "    <tr>\n",
       "      <th>0</th>\n",
       "      <td>1</td>\n",
       "      <td>13</td>\n",
       "      <td>27</td>\n",
       "      <td>1053</td>\n",
       "      <td>105551</td>\n",
       "      <td>57120.75</td>\n",
       "      <td>-10282.37</td>\n",
       "      <td>-89.05</td>\n",
       "      <td>Established</td>\n",
       "      <td>1636</td>\n",
       "      <td>Grocery</td>\n",
       "      <td>X</td>\n",
       "      <td>0</td>\n",
       "      <td>46-55</td>\n",
       "      <td>Single</td>\n",
       "      <td>0.0</td>\n",
       "      <td>1</td>\n",
       "      <td>0</td>\n",
       "      <td>5.0</td>\n",
       "    </tr>\n",
       "    <tr>\n",
       "      <th>1</th>\n",
       "      <td>2</td>\n",
       "      <td>13</td>\n",
       "      <td>116</td>\n",
       "      <td>48</td>\n",
       "      <td>12143</td>\n",
       "      <td>90185.10</td>\n",
       "      <td>-10664.18</td>\n",
       "      <td>-1237.79</td>\n",
       "      <td>Local</td>\n",
       "      <td>56</td>\n",
       "      <td>Grocery</td>\n",
       "      <td>X</td>\n",
       "      <td>0</td>\n",
       "      <td>36-45</td>\n",
       "      <td>Married</td>\n",
       "      <td>0.0</td>\n",
       "      <td>2</td>\n",
       "      <td>0</td>\n",
       "      <td>3.0</td>\n",
       "    </tr>\n",
       "    <tr>\n",
       "      <th>2</th>\n",
       "      <td>6</td>\n",
       "      <td>9</td>\n",
       "      <td>635</td>\n",
       "      <td>205</td>\n",
       "      <td>1351</td>\n",
       "      <td>117461.66</td>\n",
       "      <td>-17261.79</td>\n",
       "      <td>-2145.72</td>\n",
       "      <td>Established</td>\n",
       "      <td>560</td>\n",
       "      <td>Pharmaceutical</td>\n",
       "      <td>Y</td>\n",
       "      <td>0</td>\n",
       "      <td>46-55</td>\n",
       "      <td>Married</td>\n",
       "      <td>0.0</td>\n",
       "      <td>2</td>\n",
       "      <td>0</td>\n",
       "      <td>7.0</td>\n",
       "    </tr>\n",
       "    <tr>\n",
       "      <th>3</th>\n",
       "      <td>7</td>\n",
       "      <td>13</td>\n",
       "      <td>644</td>\n",
       "      <td>1050</td>\n",
       "      <td>306</td>\n",
       "      <td>23291.42</td>\n",
       "      <td>-3947.37</td>\n",
       "      <td>-178.10</td>\n",
       "      <td>Established</td>\n",
       "      <td>611</td>\n",
       "      <td>Grocery</td>\n",
       "      <td>X</td>\n",
       "      <td>0</td>\n",
       "      <td>46-55</td>\n",
       "      <td>Married</td>\n",
       "      <td>0.0</td>\n",
       "      <td>2</td>\n",
       "      <td>0</td>\n",
       "      <td>5.0</td>\n",
       "    </tr>\n",
       "    <tr>\n",
       "      <th>4</th>\n",
       "      <td>9</td>\n",
       "      <td>8</td>\n",
       "      <td>1017</td>\n",
       "      <td>1489</td>\n",
       "      <td>139063</td>\n",
       "      <td>67797.49</td>\n",
       "      <td>-11534.90</td>\n",
       "      <td>-265.01</td>\n",
       "      <td>Established</td>\n",
       "      <td>1558</td>\n",
       "      <td>Grocery</td>\n",
       "      <td>X</td>\n",
       "      <td>0</td>\n",
       "      <td>46-55</td>\n",
       "      <td>Married</td>\n",
       "      <td>0.0</td>\n",
       "      <td>2</td>\n",
       "      <td>0</td>\n",
       "      <td>3.0</td>\n",
       "    </tr>\n",
       "  </tbody>\n",
       "</table>\n",
       "</div>"
      ],
      "text/plain": [
       "   id  campaign_id  coupon_id  customer_id  quantity  selling_price  \\\n",
       "0   1           13         27         1053    105551       57120.75   \n",
       "1   2           13        116           48     12143       90185.10   \n",
       "2   6            9        635          205      1351      117461.66   \n",
       "3   7           13        644         1050       306       23291.42   \n",
       "4   9            8       1017         1489    139063       67797.49   \n",
       "\n",
       "   other_discount  coupon_discount   brand_type  brand        category  \\\n",
       "0       -10282.37           -89.05  Established   1636         Grocery   \n",
       "1       -10664.18         -1237.79        Local     56         Grocery   \n",
       "2       -17261.79         -2145.72  Established    560  Pharmaceutical   \n",
       "3        -3947.37          -178.10  Established    611         Grocery   \n",
       "4       -11534.90          -265.01  Established   1558         Grocery   \n",
       "\n",
       "  campaign_type  redemption_status age_range marital_status  rented  \\\n",
       "0             X                  0     46-55         Single     0.0   \n",
       "1             X                  0     36-45        Married     0.0   \n",
       "2             Y                  0     46-55        Married     0.0   \n",
       "3             X                  0     46-55        Married     0.0   \n",
       "4             X                  0     46-55        Married     0.0   \n",
       "\n",
       "  family_size no_of_children  income_bracket  \n",
       "0           1              0             5.0  \n",
       "1           2              0             3.0  \n",
       "2           2              0             7.0  \n",
       "3           2              0             5.0  \n",
       "4           2              0             3.0  "
      ]
     },
     "execution_count": 735,
     "metadata": {},
     "output_type": "execute_result"
    }
   ],
   "source": [
    "mergedd.head()"
   ]
  },
  {
   "cell_type": "code",
   "execution_count": null,
   "metadata": {},
   "outputs": [],
   "source": []
  },
  {
   "cell_type": "code",
   "execution_count": 750,
   "metadata": {},
   "outputs": [],
   "source": []
  },
  {
   "cell_type": "markdown",
   "metadata": {},
   "source": [
    "# Encoding"
   ]
  },
  {
   "cell_type": "code",
   "execution_count": 392,
   "metadata": {},
   "outputs": [
    {
     "data": {
      "text/html": [
       "<div>\n",
       "<style scoped>\n",
       "    .dataframe tbody tr th:only-of-type {\n",
       "        vertical-align: middle;\n",
       "    }\n",
       "\n",
       "    .dataframe tbody tr th {\n",
       "        vertical-align: top;\n",
       "    }\n",
       "\n",
       "    .dataframe thead th {\n",
       "        text-align: right;\n",
       "    }\n",
       "</style>\n",
       "<table border=\"1\" class=\"dataframe\">\n",
       "  <thead>\n",
       "    <tr style=\"text-align: right;\">\n",
       "      <th></th>\n",
       "      <th>id</th>\n",
       "      <th>campaign_id</th>\n",
       "      <th>coupon_id</th>\n",
       "      <th>customer_id</th>\n",
       "      <th>quantity</th>\n",
       "      <th>selling_price</th>\n",
       "      <th>other_discount</th>\n",
       "      <th>coupon_discount</th>\n",
       "      <th>brand_type</th>\n",
       "      <th>brand</th>\n",
       "      <th>category</th>\n",
       "      <th>campaign_type</th>\n",
       "      <th>redemption_status</th>\n",
       "    </tr>\n",
       "  </thead>\n",
       "  <tbody>\n",
       "    <tr>\n",
       "      <th>0</th>\n",
       "      <td>1</td>\n",
       "      <td>13</td>\n",
       "      <td>27</td>\n",
       "      <td>1053</td>\n",
       "      <td>105551</td>\n",
       "      <td>57120.75</td>\n",
       "      <td>-10282.37</td>\n",
       "      <td>-89.05</td>\n",
       "      <td>Established</td>\n",
       "      <td>1636</td>\n",
       "      <td>Grocery</td>\n",
       "      <td>X</td>\n",
       "      <td>0</td>\n",
       "    </tr>\n",
       "  </tbody>\n",
       "</table>\n",
       "</div>"
      ],
      "text/plain": [
       "   id  campaign_id  coupon_id  customer_id  quantity  selling_price  \\\n",
       "0   1           13         27         1053    105551       57120.75   \n",
       "\n",
       "   other_discount  coupon_discount   brand_type  brand category campaign_type  \\\n",
       "0       -10282.37           -89.05  Established   1636  Grocery             X   \n",
       "\n",
       "   redemption_status  \n",
       "0                  0  "
      ]
     },
     "execution_count": 392,
     "metadata": {},
     "output_type": "execute_result"
    }
   ],
   "source": [
    "finaltrain.head(1)"
   ]
  },
  {
   "cell_type": "code",
   "execution_count": 756,
   "metadata": {},
   "outputs": [],
   "source": [
    "from sklearn.preprocessing import LabelEncoder"
   ]
  },
  {
   "cell_type": "code",
   "execution_count": 758,
   "metadata": {},
   "outputs": [],
   "source": [
    "lr=LabelEncoder()"
   ]
  },
  {
   "cell_type": "code",
   "execution_count": 760,
   "metadata": {},
   "outputs": [],
   "source": [
    "age_range=lr.fit_transform(mergedd.age_range)"
   ]
  },
  {
   "cell_type": "code",
   "execution_count": 765,
   "metadata": {},
   "outputs": [],
   "source": [
    "mergedd.age_range=age_range"
   ]
  },
  {
   "cell_type": "code",
   "execution_count": 768,
   "metadata": {},
   "outputs": [],
   "source": [
    "age_range_test=lr.fit_transform(mergedd_test.age_range)"
   ]
  },
  {
   "cell_type": "code",
   "execution_count": 772,
   "metadata": {},
   "outputs": [],
   "source": [
    "mergedd_test.age_range=age_range_test"
   ]
  },
  {
   "cell_type": "code",
   "execution_count": 757,
   "metadata": {},
   "outputs": [],
   "source": [
    "marital_status=pd.get_dummies(mergedd.marital_status,drop_first=True)"
   ]
  },
  {
   "cell_type": "code",
   "execution_count": 393,
   "metadata": {},
   "outputs": [],
   "source": [
    "brand_type=pd.get_dummies(mergedd.brand_type,drop_first=True)\n",
    "category=pd.get_dummies(mergedd.category,drop_first=True)\n",
    "campaign_type=pd.get_dummies(mergedd.campaign_type,drop_first=True)"
   ]
  },
  {
   "cell_type": "code",
   "execution_count": 773,
   "metadata": {},
   "outputs": [],
   "source": [
    "finaltrain_enc_all=pd.concat((mergedd,brand_type,category,campaign_type,marital_status),axis=1)\n",
    "finaltrain_enc_all.drop(['brand_type','category','campaign_type','marital_status'],axis=1,inplace=True)"
   ]
  },
  {
   "cell_type": "code",
   "execution_count": 778,
   "metadata": {},
   "outputs": [],
   "source": [
    "marital_status_test=pd.get_dummies(mergedd_test.marital_status,drop_first=True)"
   ]
  },
  {
   "cell_type": "code",
   "execution_count": 779,
   "metadata": {},
   "outputs": [],
   "source": [
    "brand_type=pd.get_dummies(mergedd_test.brand_type,drop_first=True)\n",
    "category=pd.get_dummies(mergedd_test.category,drop_first=True)\n",
    "campaign_type=pd.get_dummies(mergedd_test.campaign_type,drop_first=True)\n",
    "\n",
    "finaltest_enc_all=pd.concat((mergedd_test,brand_type,category,campaign_type,marital_status_test),axis=1)\n",
    "finaltest_enc_all.drop(['brand_type','category','campaign_type','marital_status'],axis=1,inplace=True)\n",
    "\n"
   ]
  },
  {
   "cell_type": "code",
   "execution_count": null,
   "metadata": {},
   "outputs": [],
   "source": []
  },
  {
   "cell_type": "code",
   "execution_count": 398,
   "metadata": {},
   "outputs": [
    {
     "data": {
      "text/plain": [
       "Index(['id', 'campaign_id', 'coupon_id', 'customer_id', 'quantity',\n",
       "       'selling_price', 'other_discount', 'coupon_discount', 'brand', 'Local',\n",
       "       'Dairy, Juices & Snacks', 'Flowers & Plants', 'Grocery', 'Meat',\n",
       "       'Natural Products', 'Packaged Meat', 'Pharmaceutical', 'Prepared Food',\n",
       "       'Seafood', 'Skin & Hair Care', 'Y'],\n",
       "      dtype='object')"
      ]
     },
     "execution_count": 398,
     "metadata": {},
     "output_type": "execute_result"
    }
   ],
   "source": [
    "finaltest_enc.columns"
   ]
  },
  {
   "cell_type": "code",
   "execution_count": 401,
   "metadata": {},
   "outputs": [
    {
     "data": {
      "text/plain": [
       "Index(['id', 'campaign_id', 'coupon_id', 'customer_id', 'quantity',\n",
       "       'selling_price', 'other_discount', 'coupon_discount', 'brand',\n",
       "       'redemption_status', 'Local', 'Dairy, Juices & Snacks',\n",
       "       'Flowers & Plants', 'Grocery', 'Meat', 'Natural Products',\n",
       "       'Packaged Meat', 'Pharmaceutical', 'Prepared Food', 'Salads', 'Seafood',\n",
       "       'Skin & Hair Care', 'Y'],\n",
       "      dtype='object')"
      ]
     },
     "execution_count": 401,
     "metadata": {},
     "output_type": "execute_result"
    }
   ],
   "source": [
    "finaltrain_enc.columns"
   ]
  },
  {
   "cell_type": "code",
   "execution_count": null,
   "metadata": {},
   "outputs": [],
   "source": []
  },
  {
   "cell_type": "code",
   "execution_count": 829,
   "metadata": {},
   "outputs": [],
   "source": [
    "y=finaltrain_enc.redemption_status\n",
    "X=finaltrain_enc.drop(['redemption_status','Salads'],axis=1)"
   ]
  },
  {
   "cell_type": "markdown",
   "metadata": {},
   "source": [
    "# Prediction"
   ]
  },
  {
   "cell_type": "code",
   "execution_count": 817,
   "metadata": {},
   "outputs": [],
   "source": [
    "from sklearn.ensemble import GradientBoostingClassifier"
   ]
  },
  {
   "cell_type": "code",
   "execution_count": 830,
   "metadata": {},
   "outputs": [],
   "source": [
    "gbc=GradientBoostingClassifier(n_estimators=1000,random_state=123,learning_rate=0.42) # gives best prediction 0.8492"
   ]
  },
  {
   "cell_type": "code",
   "execution_count": 831,
   "metadata": {},
   "outputs": [
    {
     "data": {
      "text/plain": [
       "GradientBoostingClassifier(criterion='friedman_mse', init=None,\n",
       "                           learning_rate=0.42, loss='deviance', max_depth=3,\n",
       "                           max_features=None, max_leaf_nodes=None,\n",
       "                           min_impurity_decrease=0.0, min_impurity_split=None,\n",
       "                           min_samples_leaf=1, min_samples_split=2,\n",
       "                           min_weight_fraction_leaf=0.0, n_estimators=1000,\n",
       "                           n_iter_no_change=None, presort='auto',\n",
       "                           random_state=123, subsample=1.0, tol=0.0001,\n",
       "                           validation_fraction=0.1, verbose=0,\n",
       "                           warm_start=False)"
      ]
     },
     "execution_count": 831,
     "metadata": {},
     "output_type": "execute_result"
    }
   ],
   "source": [
    "gbc.fit(X,y)"
   ]
  },
  {
   "cell_type": "code",
   "execution_count": 833,
   "metadata": {},
   "outputs": [],
   "source": [
    "predictedgbc=gbc.predict_proba(finaltest_enc)"
   ]
  },
  {
   "cell_type": "code",
   "execution_count": 795,
   "metadata": {},
   "outputs": [
    {
     "data": {
      "text/plain": [
       "(50226, 2)"
      ]
     },
     "execution_count": 795,
     "metadata": {},
     "output_type": "execute_result"
    }
   ],
   "source": [
    "predictedgbc.shape"
   ]
  },
  {
   "cell_type": "code",
   "execution_count": 834,
   "metadata": {},
   "outputs": [],
   "source": [
    "submission_gbc=pd.DataFrame({'id':test_1.id,'redemption_status':predictedgbc[:,1:].ravel()})"
   ]
  },
  {
   "cell_type": "code",
   "execution_count": 835,
   "metadata": {},
   "outputs": [],
   "source": [
    "submission_gbc.to_csv('submission_gbc.csv',index=False)"
   ]
  }
 ],
 "metadata": {
  "kernelspec": {
   "display_name": "Python 3",
   "language": "python",
   "name": "python3"
  },
  "language_info": {
   "codemirror_mode": {
    "name": "ipython",
    "version": 3
   },
   "file_extension": ".py",
   "mimetype": "text/x-python",
   "name": "python",
   "nbconvert_exporter": "python",
   "pygments_lexer": "ipython3",
   "version": "3.7.3"
  }
 },
 "nbformat": 4,
 "nbformat_minor": 2
}
